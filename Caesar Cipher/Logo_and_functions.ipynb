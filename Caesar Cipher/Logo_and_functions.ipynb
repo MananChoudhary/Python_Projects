{
 "cells": [
  {
   "cell_type": "code",
   "execution_count": 88,
   "id": "49066d9d",
   "metadata": {},
   "outputs": [],
   "source": [
    "logo = \"\"\"           \n",
    " ,adPPYba, ,adPPYYba,  ,adPPYba, ,adPPYba, ,adPPYYba, 8b,dPPYba,  \n",
    "a8\"     \"\" \"\"     `Y8 a8P_____88 I8[    \"\" \"\"     `Y8 88P'   \"Y8  \n",
    "8b         ,adPPPPP88 8PP\"\"\"\"\"\"\"  `\"Y8ba,  ,adPPPPP88 88          \n",
    "\"8a,   ,aa 88,    ,88 \"8b,   ,aa aa    ]8I 88,    ,88 88          \n",
    " `\"Ybbd8\"' `\"8bbdP\"Y8  `\"Ybbd8\"' `\"YbbdP\"' `\"8bbdP\"Y8 88   \n",
    "            88             88                                 \n",
    "           \"\"             88                                 \n",
    "                          88                                 \n",
    " ,adPPYba, 88 8b,dPPYba,  88,dPPYba,   ,adPPYba, 8b,dPPYba,  \n",
    "a8\"     \"\" 88 88P'    \"8a 88P'    \"8a a8P_____88 88P'   \"Y8  \n",
    "8b         88 88       d8 88       88 8PP\"\"\"\"\"\"\" 88          \n",
    "\"8a,   ,aa 88 88b,   ,a8\" 88       88 \"8b,   ,aa 88          \n",
    " `\"Ybbd8\"' 88 88`YbbdP\"'  88       88  `\"Ybbd8\"' 88          \n",
    "              88                                             \n",
    "              88           \n",
    "\"\"\""
   ]
  },
  {
   "cell_type": "code",
   "execution_count": 89,
   "id": "fdfecd23",
   "metadata": {},
   "outputs": [],
   "source": [
    "alphabet = ['a', 'b', 'c', 'd', 'e', 'f', 'g', 'h', 'i', 'j', 'k', 'l', 'm', 'n', 'o', 'p', 'q', 'r', 's', 't', 'u', 'v', 'w', 'x', 'y', 'z']"
   ]
  },
  {
   "cell_type": "code",
   "execution_count": 90,
   "id": "7b24c9ed",
   "metadata": {},
   "outputs": [],
   "source": [
    "def encript(text,shift):\n",
    "    cipher_text=''\n",
    "   \n",
    "    for i in text.lower():\n",
    "        if(i not in alphabet):\n",
    "            cipher_text=cipher_text+ i\n",
    "        elif(i==' '):\n",
    "            cipher_text=cipher_text+' '\n",
    "\n",
    "        elif((alphabet.index(i)+shift)>(alphabet.index('z'))):\n",
    "            z= (alphabet.index(i)+shift)-(alphabet.index(i))\n",
    "            cipher_text=cipher_text+alphabet[(shift-(alphabet.index('z')-alphabet.index(i)))-1]\n",
    "        else:    \n",
    "            c= alphabet[alphabet.index(i)+shift]\n",
    "            cipher_text=cipher_text+c\n",
    "    print(f'The encripted code is :{cipher_text}')\n",
    "\n",
    "def decript(text,shift):\n",
    "    cipher_text=''\n",
    "    \n",
    "    for i in text.lower():\n",
    "        if(i not in alphabet):\n",
    "            cipher_text=cipher_text+ i\n",
    "        elif(i==' '):\n",
    "            cipher_text=cipher_text+' '\n",
    "        else:    \n",
    "            c= alphabet[alphabet.index(i)-shift]\n",
    "            cipher_text=cipher_text+c\n",
    "    print(f'The decoded code is :{cipher_text}')"
   ]
  },
  {
   "cell_type": "code",
   "execution_count": 91,
   "id": "c3b0c291",
   "metadata": {},
   "outputs": [],
   "source": [
    "def caesar():\n",
    "    direction = input(\"Type 'encode' to encrypt, type 'decode' to decrypt:\\n\").lower()\n",
    "    if(direction!='encode' and direction!='decode'):\n",
    "        print('Choosen the wrong direction.')\n",
    "        \n",
    "    else:\n",
    "        \n",
    "        text = input(\"Type your message:\\n\").lower()\n",
    "        shift = int(input(\"Type the shift number:\\n\"))\n",
    "\n",
    "        if(direction=='encode'):\n",
    "            encript(text,shift)\n",
    "        elif(direction=='decode'):\n",
    "            decript(text,shift)\n",
    "       \n",
    "            "
   ]
  },
  {
   "cell_type": "code",
   "execution_count": 92,
   "id": "cb649f37",
   "metadata": {},
   "outputs": [],
   "source": [
    "def final_game():\n",
    "    print(logo)\n",
    "    caesar()\n",
    "    again= input('Do you want to choose again? Yes or No\\n').lower()\n",
    "    while(again=='yes'):\n",
    "        caesar()\n",
    "        again= input('Do you want to choose again? Yes or No\\n').lower()\n",
    "    print('You have choosen to quit the encrypting machine. Have a great day')"
   ]
  }
 ],
 "metadata": {
  "kernelspec": {
   "display_name": "Python 3 (ipykernel)",
   "language": "python",
   "name": "python3"
  },
  "language_info": {
   "codemirror_mode": {
    "name": "ipython",
    "version": 3
   },
   "file_extension": ".py",
   "mimetype": "text/x-python",
   "name": "python",
   "nbconvert_exporter": "python",
   "pygments_lexer": "ipython3",
   "version": "3.9.6"
  }
 },
 "nbformat": 4,
 "nbformat_minor": 5
}
